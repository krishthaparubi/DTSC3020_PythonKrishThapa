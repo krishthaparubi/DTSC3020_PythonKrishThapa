{
  "cells": [
    {
      "cell_type": "markdown",
      "metadata": {
        "id": "view-in-github",
        "colab_type": "text"
      },
      "source": [
        "<a href=\"https://colab.research.google.com/github/krishthaparubi/DTSC3020_PythonKrishThapa/blob/main/Assignment5_Ch_10%2611.ipynb\" target=\"_parent\"><img src=\"https://colab.research.google.com/assets/colab-badge.svg\" alt=\"Open In Colab\"/></a>"
      ]
    },
    {
      "cell_type": "markdown",
      "id": "9903d230",
      "metadata": {
        "id": "9903d230"
      },
      "source": [
        "# Assignment5: CRM Cleanup @ **DalaShop**\n",
        "*Files (Ch.10), Exceptions (Ch.10), Unit Tests (Ch.11), and Regular Expressions*  \n",
        ".....\n",
        "\n",
        "**Total: 3 points**  (Two questions, 1.5 pts each)  \n",
        "\n",
        "> This assignment is scenario-based and aligned with Python Crash Course Ch.10 (files & exceptions), Ch.11 (unit testing with `unittest`), and Regular Expressions."
      ]
    },
    {
      "cell_type": "markdown",
      "id": "d6487401",
      "metadata": {
        "id": "d6487401"
      },
      "source": [
        "## Scenario\n",
        "You are a data intern at an online retailer called **DalaShop**.  \n",
        "Sales exported a **raw contacts** file from the CRM. It contains customer names, emails, and phone numbers, but the formatting is messy and some emails are invalid.  \n",
        "Your tasks:\n",
        "\n",
        "1. **Clean** the contacts (Files + Exceptions + Regex).  \n",
        "2. **Write unit tests** to make sure your helper functions work correctly and keep working in the future."
      ]
    },
    {
      "cell_type": "markdown",
      "id": "0bd1712f",
      "metadata": {
        "id": "0bd1712f"
      },
      "source": [
        "## Data file (given by the company): `contacts_raw.txt`\n",
        "Use this exact sample data (you may extend it for your own testing, but do **not** change it when submitting).  \n",
        "Run the next cell once to create the file beside your notebook."
      ]
    },
    {
      "cell_type": "code",
      "execution_count": null,
      "id": "c395a1a8",
      "metadata": {
        "id": "c395a1a8"
      },
      "outputs": [],
      "source": [
        "# Create the provided company dataset file\n",
        "with open(\"contacts_raw.txt\", \"w\", encoding=\"utf-8\") as f:\n",
        "    f.write('Alice Johnson <alice@example.com> , +1 (469) 555-1234\\nBob Roberts <bob[at]example.com> , 972-555-777\\nSara M. , sara@mail.co , 214 555 8888\\n\"Mehdi A.\" <mehdi.ay@example.org> , (469)555-9999\\nDelaram <delaram@example.io>, +1-972-777-2121\\nNima <NIMA@example.io> , 972.777.2121\\nduplicate <Alice@Example.com> , 469 555 1234')\n",
        "print(\"Wrote contacts_raw.txt with sample DalaShop data.\")"
      ]
    },
    {
      "cell_type": "markdown",
      "id": "1b535f73",
      "metadata": {
        "id": "1b535f73"
      },
      "source": [
        "## Q1 (1.5 pts) — CRM cleanup with Files, Exceptions, and Regex\n",
        "Implement `q1_crm_cleanup.py` to:\n",
        "\n",
        "1. **Read** `contacts_raw.txt` using `pathlib` and `with`. If the file is missing, **handle** it gracefully with `try/except FileNotFoundError` (print a friendly message; do not crash).\n",
        "2. **Validate emails** with a simple regex (`r\"[A-Za-z0-9._%+-]+@[A-Za-z0-9.-]+\\.[A-Za-z]{2,}\"`).  \n",
        "   - Trim whitespace with `strip()` before checking.  \n",
        "   - Use **full** matching (not partial).\n",
        "3. **Normalize phone numbers:** remove all non-digits (e.g., with `re.sub(r\"\\D\", \"\", raw)`).  \n",
        "   - If the result has **≥ 10 digits**, keep the **last 10 digits**.  \n",
        "   - Otherwise, return an **empty string** (`\"\"`).\n",
        "4. **Filter rows:** keep **only** rows with a valid email.\n",
        "5. **Deduplicate:** remove duplicates by **email** using **case-insensitive** comparison (e.g., `email.casefold()`). **Keep the first occurrence** and drop later duplicates.\n",
        "6. **Output CSV:** write to `contacts_clean.csv` with **columns exactly** `name,email,phone` (UTF-8).  \n",
        "7. **Preserve input order:** the order of rows in `contacts_clean.csv` must match the **first appearance** order from the input file. **Do not sort** the rows.\n",
        "\n",
        "**Grading rubric (1.5 pts):**\n",
        "- (0.4) File read/write via `pathlib` + graceful `FileNotFoundError` handling  \n",
        "- (0.5) Correct email regex validation + filtering  \n",
        "- (0.4) Phone normalization + case-insensitive de-dup (keep first)  \n",
        "- (0.2) Clean code, clear names, minimal docstrings/comments"
      ]
    },
    {
      "cell_type": "code",
      "source": [
        "import re\n",
        "import csv\n",
        "from pathlib import Path\n",
        "\n",
        "def is_valid_email(email):\n",
        "    \"\"\"Check if the email is valid.\"\"\"\n",
        "    email = email.strip()\n",
        "    pattern = r\"^[A-Za-z0-9._%+-]+@[A-Za-z0-9.-]+\\.[A-Za-z]{2,}$\"\n",
        "    return re.fullmatch(pattern, email) is not None\n",
        "\n",
        "def normalize_phone(phone):\n",
        "    \"\"\"Remove all non-digits and keep last 10 digits if possible.\"\"\"\n",
        "    digits = re.sub(r\"\\D\", \"\", phone)\n",
        "    if len(digits) >= 10:\n",
        "        return digits[-10:]\n",
        "    return \"\"\n",
        "\n",
        "def cleanup_contacts(input_file=\"contacts_raw.txt\", output_file=\"contacts_clean.csv\"):\n",
        "    \"\"\"Read contacts, clean data, and save to CSV.\"\"\"\n",
        "    try:\n",
        "        path = Path(input_file)\n",
        "        lines = path.read_text(encoding=\"utf-8\").splitlines()\n",
        "    except FileNotFoundError:\n",
        "        print(\"File not found. Please make sure contacts_raw.txt exists.\")\n",
        "        return\n",
        "\n",
        "    clean_contacts = []\n",
        "    seen_emails = set()\n",
        "\n",
        "    for line in lines:\n",
        "        # Split line by comma\n",
        "        parts = [p.strip() for p in line.split(\",\")]\n",
        "\n",
        "        if len(parts) < 2:\n",
        "            continue\n",
        "\n",
        "        # Try to get name and email\n",
        "        name = parts[0].replace('\"', '').strip()\n",
        "        email = \"\"\n",
        "        phone = parts[-1].strip()\n",
        "\n",
        "        # If email is in <...> brackets, extract it\n",
        "        match = re.search(r\"<([^>]+)>\", line)\n",
        "        if match:\n",
        "            email = match.group(1)\n",
        "        else:\n",
        "            # otherwise use the second part (some lines use commas instead)\n",
        "            email = parts[1].strip()\n",
        "\n",
        "        # Validate email\n",
        "        if not is_valid_email(email):\n",
        "            continue\n",
        "\n",
        "        # Check for duplicates (case-insensitive)\n",
        "        email_lower = email.casefold()\n",
        "        if email_lower in seen_emails:\n",
        "            continue\n",
        "        seen_emails.add(email_lower)\n",
        "\n",
        "        # Clean phone\n",
        "        phone = normalize_phone(phone)\n",
        "\n",
        "        clean_contacts.append([name, email, phone])\n",
        "\n",
        "    # Write to CSV\n",
        "    with open(output_file, \"w\", newline=\"\", encoding=\"utf-8\") as f:\n",
        "        writer = csv.writer(f)\n",
        "        writer.writerow([\"name\", \"email\", \"phone\"])\n",
        "        writer.writerows(clean_contacts)\n",
        "\n",
        "    print(\"contacts_clean.csv created successfully!\")\n",
        "\n",
        "if __name__ == \"__main__\":\n",
        "    cleanup_contacts()\n"
      ],
      "metadata": {
        "id": "gO9xaHmKNlax",
        "colab": {
          "base_uri": "https://localhost:8080/"
        },
        "outputId": "a5445865-1120-428c-e979-1200686e8bdc"
      },
      "id": "gO9xaHmKNlax",
      "execution_count": 1,
      "outputs": [
        {
          "output_type": "stream",
          "name": "stdout",
          "text": [
            "File not found. Please make sure contacts_raw.txt exists.\n"
          ]
        }
      ]
    },
    {
      "cell_type": "markdown",
      "id": "258c5b04",
      "metadata": {
        "id": "258c5b04"
      },
      "source": [
        "## Q2 (1.5 pts) — Unit testing with `unittest`\n",
        "Create tests in `test_crm_cleanup.py` that cover at least:\n",
        "\n",
        "1. **Email validation**: valid/invalid variations.  \n",
        "2. **Phone normalization**: parentheses, dashes, spaces, country code; too-short cases.  \n",
        "3. **Parsing**: from a small multi-line string (not from a file), assert the exact structured rows (name/email/phone).  \n",
        "4. **De-duplication**: demonstrate that a case-variant duplicate email is dropped (first occurrence kept).\n",
        "\n",
        "\n"
      ]
    },
    {
      "cell_type": "code",
      "source": [
        "import unittest\n",
        "from q1_crm_cleanup import is_valid_email, normalize_phone\n",
        "\n",
        "class TestCRM(unittest.TestCase):\n",
        "\n",
        "    def test_valid_email(self):\n",
        "        # Valid\n",
        "        self.assertTrue(is_valid_email(\"hello@example.com\"))\n",
        "        self.assertTrue(is_valid_email(\"john_doe@domain.co\"))\n",
        "        # Invalid\n",
        "        self.assertFalse(is_valid_email(\"wrong@domain\"))\n",
        "        self.assertFalse(is_valid_email(\"name[at]example.com\"))\n",
        "\n",
        "    def test_normalize_phone(self):\n",
        "        # Normal cases\n",
        "        self.assertEqual(normalize_phone(\"(469) 555-1234\"), \"4695551234\")\n",
        "        self.assertEqual(normalize_phone(\"+1-972-777-2121\"), \"9727772121\")\n",
        "        self.assertEqual(normalize_phone(\"214 555 8888\"), \"2145558888\")\n",
        "        # Too short\n",
        "        self.assertEqual(normalize_phone(\"55555\"), \"\")\n",
        "\n",
        "if __name__ == \"__main__\":\n",
        "    unittest.main()\n"
      ],
      "metadata": {
        "id": "_M18cJw2NqZm"
      },
      "id": "_M18cJw2NqZm",
      "execution_count": null,
      "outputs": []
    },
    {
      "cell_type": "markdown",
      "id": "f38af38b",
      "metadata": {
        "id": "f38af38b"
      },
      "source": [
        "## Grading rubric (total 3 pts)\n",
        "- **Q1 (1.5 pts)**  \n",
        "  - (0.4) File I/O with `pathlib` + graceful `FileNotFoundError` handling  \n",
        "  - (0.5) Email validation (regex + strip + full match) and filtering  \n",
        "  - (0.4) Phone normalization and **case-insensitive** de-duplication (keep first)  \n",
        "  - (0.2) Code clarity (names, minimal docstrings/comments)\n",
        "- **Q2 (1.5 pts)**  \n",
        "  - (0.6) Meaningful coverage for email/phone functions (valid & invalid)  \n",
        "  - (0.6) Parsing & de-dup tests that assert exact expected rows  \n",
        "  - (0.3) Standard `unittest` structure and readable test names\n"
      ]
    }
  ],
  "metadata": {
    "colab": {
      "provenance": [],
      "include_colab_link": true
    },
    "language_info": {
      "name": "python"
    },
    "kernelspec": {
      "name": "python3",
      "display_name": "Python 3"
    }
  },
  "nbformat": 4,
  "nbformat_minor": 5
}