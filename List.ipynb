{
  "nbformat": 4,
  "nbformat_minor": 0,
  "metadata": {
    "colab": {
      "provenance": [],
      "authorship_tag": "ABX9TyPyneeYYwzt6GlG+zXY/nxA",
      "include_colab_link": true
    },
    "kernelspec": {
      "name": "python3",
      "display_name": "Python 3"
    },
    "language_info": {
      "name": "python"
    }
  },
  "cells": [
    {
      "cell_type": "markdown",
      "metadata": {
        "id": "view-in-github",
        "colab_type": "text"
      },
      "source": [
        "<a href=\"https://colab.research.google.com/github/krishthaparubi/DTSC3020_PythonKrishThapa/blob/main/List.ipynb\" target=\"_parent\"><img src=\"https://colab.research.google.com/assets/colab-badge.svg\" alt=\"Open In Colab\"/></a>"
      ]
    },
    {
      "cell_type": "code",
      "source": [
        "#Create a list with 3 fruits (for example: apple, banana, orange).\n",
        " #• Print the entire list.\n",
        " #• Print each item separately.\n",
        "\n",
        "fruits = ['apples', 'kiwi', 'orange']\n",
        "print(fruits)\n",
        "print(fruits[0])\n",
        "print(fruits[1])\n",
        "print(fruits[2])"
      ],
      "metadata": {
        "colab": {
          "base_uri": "https://localhost:8080/"
        },
        "id": "wXEkhGcUag-x",
        "outputId": "027abfd0-20a4-4991-9be7-6540ab98c521"
      },
      "execution_count": 139,
      "outputs": [
        {
          "output_type": "stream",
          "name": "stdout",
          "text": [
            "['apples', 'kiwi', 'orange']\n",
            "apples\n",
            "kiwi\n",
            "orange\n"
          ]
        }
      ]
    },
    {
      "cell_type": "code",
      "source": [
        "#Create a list with 4 names.\n",
        " #• Change the first name to a different one.\n",
        " #• Print the new list.\n",
        "\n",
        "name = ['krish', 'rish', 'tool', 'bool']\n",
        "name[0] = 'Ethan'\n",
        "print(name)"
      ],
      "metadata": {
        "colab": {
          "base_uri": "https://localhost:8080/"
        },
        "id": "ZJSw9itFi9vv",
        "outputId": "17066c29-3f93-4dbc-ec2d-cf6d3b0a5d45"
      },
      "execution_count": 123,
      "outputs": [
        {
          "output_type": "stream",
          "name": "stdout",
          "text": [
            "['Ethan', 'rish', 'tool', 'bool']\n"
          ]
        }
      ]
    },
    {
      "cell_type": "code",
      "source": [
        "#Create a list with 5 vehicles (for example: car, bus, bike).\n",
        " #• Add one more vehicle to the end of the list.\n",
        " #• Print the list.\n",
        "\n",
        "car = ['bike', 'bus', 'car', 'skateboard', 'tricyle']\n",
        "car.append(\"unicycle\")\n",
        "print(car)"
      ],
      "metadata": {
        "colab": {
          "base_uri": "https://localhost:8080/"
        },
        "id": "fxjuLSiKjgys",
        "outputId": "69cf9925-7565-4b18-8db9-8a14217c538a"
      },
      "execution_count": 128,
      "outputs": [
        {
          "output_type": "stream",
          "name": "stdout",
          "text": [
            "['bike', 'bus', 'car', 'skateboard', 'tricyle', 'unicycle']\n"
          ]
        }
      ]
    },
    {
      "cell_type": "code",
      "source": [
        "#Create a list with 6 foods.\n",
        " #• Remove one food from the list.\n",
        " #• Print the new list.\n",
        "\n",
        "food = ['apples', 'kiwi', 'orange', 'berry', 'cake', ' milk']\n",
        "del food[0]\n",
        "print(food)\n"
      ],
      "metadata": {
        "colab": {
          "base_uri": "https://localhost:8080/"
        },
        "id": "PGFkZN2HkHA5",
        "outputId": "f8e36bd8-7ad5-40f9-8389-9fc0f6b6654a"
      },
      "execution_count": 132,
      "outputs": [
        {
          "output_type": "stream",
          "name": "stdout",
          "text": [
            "['kiwi', 'orange', 'berry', 'cake', ' milk']\n"
          ]
        }
      ]
    },
    {
      "cell_type": "code",
      "source": [
        "#Create a list with 4 cities.\n",
        "#• Sort the list in alphabetical order.\n",
        "#• Reverse the list.\n",
        "\n",
        "city = ['denton', 'corinth', 'lewi', 'keller']\n",
        "city.sort(reverse = True)\n",
        "print(city)"
      ],
      "metadata": {
        "colab": {
          "base_uri": "https://localhost:8080/"
        },
        "id": "B7oqAPfMklKM",
        "outputId": "b23cc9fe-47da-4d75-cf99-979d6c3199a8"
      },
      "execution_count": 138,
      "outputs": [
        {
          "output_type": "stream",
          "name": "stdout",
          "text": [
            "['lewi', 'keller', 'denton', 'corinth']\n"
          ]
        }
      ]
    },
    {
      "cell_type": "code",
      "source": [
        "#• Create a list with 3 animals.\n",
        "#• Use a for loop to print each animal.\n",
        "\n",
        "animal = ['dog', 'cat', 'bird']\n",
        "for animals in animal:\n",
        "  print(animals)\n",
        ""
      ],
      "metadata": {
        "colab": {
          "base_uri": "https://localhost:8080/"
        },
        "id": "oA9emP9SlT9N",
        "outputId": "43534644-98c7-47fb-cbdc-339bc1d35fc9"
      },
      "execution_count": 140,
      "outputs": [
        {
          "output_type": "stream",
          "name": "stdout",
          "text": [
            "dog\n",
            "cat\n",
            "bird\n"
          ]
        }
      ]
    },
    {
      "cell_type": "code",
      "source": [
        "#• Create a list with numbers from 1 to 5.\n",
        "#• Use a for loop to print each number multiplied by 2.\n",
        "\n",
        "num = [1, 2, 3, 4, 5]\n",
        "for nums in num:\n",
        " print(nums * 2)"
      ],
      "metadata": {
        "colab": {
          "base_uri": "https://localhost:8080/"
        },
        "id": "vxWCehDJlpGw",
        "outputId": "b5d01fc3-c00e-4350-8fcb-330548c52a29"
      },
      "execution_count": 146,
      "outputs": [
        {
          "output_type": "stream",
          "name": "stdout",
          "text": [
            "2\n",
            "4\n",
            "6\n",
            "8\n",
            "10\n"
          ]
        }
      ]
    },
    {
      "cell_type": "code",
      "source": [
        "#Create a list with 6 friends.\n",
        "#• Print the first three friends.\n",
        "#• Print the last three friends.\n",
        "\n",
        "friends = ['krish', 'ron', 'man', 'sam', 'cam', 'tam']\n",
        "print(friends[:3])\n",
        "print(friends[3:])\n"
      ],
      "metadata": {
        "colab": {
          "base_uri": "https://localhost:8080/"
        },
        "id": "wBW5ciJBmxxj",
        "outputId": "c61431e0-1863-452f-f9c2-192c60974d71"
      },
      "execution_count": 149,
      "outputs": [
        {
          "output_type": "stream",
          "name": "stdout",
          "text": [
            "['krish', 'ron', 'man']\n",
            "['sam', 'cam', 'tam']\n"
          ]
        }
      ]
    },
    {
      "cell_type": "code",
      "source": [
        "#Use range() to create a list with numbers from 1 to 10.\n",
        "#• Print the list.\n",
        "\n",
        "listt = list(range(1,11))\n",
        "print(listt)\n",
        "\n",
        ""
      ],
      "metadata": {
        "colab": {
          "base_uri": "https://localhost:8080/"
        },
        "id": "sKNjzWbRnQCb",
        "outputId": "c5cda1e8-46ce-4206-ee91-ddd984bf76e2"
      },
      "execution_count": 150,
      "outputs": [
        {
          "output_type": "stream",
          "name": "stdout",
          "text": [
            "[1, 2, 3, 4, 5, 6, 7, 8, 9, 10]\n"
          ]
        }
      ]
    },
    {
      "cell_type": "code",
      "source": [
        "#• Use list comprehension to create a list with the squares of numbers from 1 to 5.\n",
        "#• Print the list.\n",
        "\n",
        "listt = [value**2 for value in range(1,11)]\n",
        "print(listt)"
      ],
      "metadata": {
        "colab": {
          "base_uri": "https://localhost:8080/"
        },
        "id": "3t-g3BsSnd5Q",
        "outputId": "6c2014bd-e742-4499-be37-7cf23d1c9dfa"
      },
      "execution_count": 158,
      "outputs": [
        {
          "output_type": "stream",
          "name": "stdout",
          "text": [
            "[1, 4, 9, 16, 25, 36, 49, 64, 81, 100]\n"
          ]
        }
      ]
    }
  ]
}